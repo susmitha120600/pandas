{
 "cells": [
  {
   "cell_type": "code",
   "execution_count": 1,
   "id": "834429c3",
   "metadata": {},
   "outputs": [],
   "source": [
    "\n",
    "from tkinter import*\n",
    "from time import*\n",
    "import sys\n",
    "\n",
    "kichu = Tk()\n",
    "kichu.title(\"digital Clock\")\n",
    "\n",
    "\n",
    "clock = Label(kichu,font=(\"calibri\",68),bg=\"grey\",fg=\"white\")\n",
    "clock.pack()\n",
    "\n",
    "\n",
    "def update():\n",
    "    s = strftime(\"%I:%M:%S:%p\")\n",
    "    clock.config(text=s)\n",
    "    clock.after(300,time)\n",
    "    \n",
    "clock = Label(kichu,font=(\"calibri\",90),bg=\"grey\",fg=\"white\")\n",
    "clock.pack() \n",
    "    \n",
    "\n",
    "update()\n",
    "kichu.mainloop()"
   ]
  },
  {
   "cell_type": "code",
   "execution_count": 1,
   "id": "ef219ba4",
   "metadata": {},
   "outputs": [],
   "source": [
    "from tkinter import*\n",
    "from time import*\n",
    "w=Tk()\n",
    "w.title(\"Digital clock\")\n",
    "w.geometry(\"420x150\")\n",
    "w.resizable()\n",
    "\n",
    "\n",
    "\n",
    "l = Label(w,\n",
    "    font = (\"Arial\",68,\"bold\"),\n",
    "    bg=\"yellow\",\n",
    "          fg=\"blue\",\n",
    "          bd=25)\n",
    "l.grid(row=0, column=1)\n",
    "\n",
    "def update():\n",
    "    t = strftime(\"%H:%M:%S%p\")\n",
    "    l.config(text=t)\n",
    "    w.after(1000,update)\n",
    "    \n",
    "    \n",
    "update()\n",
    "w.mainloop()\n",
    "          \n",
    "    "
   ]
  },
  {
   "cell_type": "code",
   "execution_count": 9,
   "id": "af9b2263",
   "metadata": {},
   "outputs": [
    {
     "name": "stdout",
     "output_type": "stream",
     "text": [
      "Collecting labels\n",
      "  Downloading labels-20.1.0-py3-none-any.whl (10 kB)\n",
      "Requirement already satisfied: requests in c:\\users\\cmaka\\anaconda3\\susmi\\lib\\site-packages (from labels) (2.28.1)\n",
      "Requirement already satisfied: click in c:\\users\\cmaka\\anaconda3\\susmi\\lib\\site-packages (from labels) (8.0.4)\n",
      "Collecting pytoml\n",
      "  Downloading pytoml-0.1.21-py2.py3-none-any.whl (8.5 kB)\n",
      "Requirement already satisfied: attrs in c:\\users\\cmaka\\anaconda3\\susmi\\lib\\site-packages (from labels) (22.1.0)\n",
      "Requirement already satisfied: colorama in c:\\users\\cmaka\\anaconda3\\susmi\\lib\\site-packages (from click->labels) (0.4.6)\n",
      "Requirement already satisfied: idna<4,>=2.5 in c:\\users\\cmaka\\anaconda3\\susmi\\lib\\site-packages (from requests->labels) (3.4)\n",
      "Requirement already satisfied: certifi>=2017.4.17 in c:\\users\\cmaka\\anaconda3\\susmi\\lib\\site-packages (from requests->labels) (2023.5.7)\n",
      "Requirement already satisfied: urllib3<1.27,>=1.21.1 in c:\\users\\cmaka\\anaconda3\\susmi\\lib\\site-packages (from requests->labels) (1.26.14)\n",
      "Requirement already satisfied: charset-normalizer<3,>=2 in c:\\users\\cmaka\\anaconda3\\susmi\\lib\\site-packages (from requests->labels) (2.0.4)\n",
      "Installing collected packages: pytoml, labels\n",
      "Successfully installed labels-20.1.0 pytoml-0.1.21\n",
      "Note: you may need to restart the kernel to use updated packages.\n"
     ]
    },
    {
     "name": "stderr",
     "output_type": "stream",
     "text": [
      "  WARNING: Retrying (Retry(total=4, connect=None, read=None, redirect=None, status=None)) after connection broken by 'ConnectTimeoutError(<pip._vendor.urllib3.connection.HTTPSConnection object at 0x000001EF41B80100>, 'Connection to files.pythonhosted.org timed out. (connect timeout=15)')': /packages/e7/d0/2b1e404231a0c57fadcca64361fcffd13eda5346222edaf04b7938300fd1/labels-20.1.0-py3-none-any.whl\n"
     ]
    }
   ],
   "source": [
    "pip install labels"
   ]
  },
  {
   "cell_type": "code",
   "execution_count": null,
   "id": "be38f3ab",
   "metadata": {},
   "outputs": [],
   "source": []
  }
 ],
 "metadata": {
  "kernelspec": {
   "display_name": "Python 3 (ipykernel)",
   "language": "python",
   "name": "python3"
  },
  "language_info": {
   "codemirror_mode": {
    "name": "ipython",
    "version": 3
   },
   "file_extension": ".py",
   "mimetype": "text/x-python",
   "name": "python",
   "nbconvert_exporter": "python",
   "pygments_lexer": "ipython3",
   "version": "3.10.9"
  }
 },
 "nbformat": 4,
 "nbformat_minor": 5
}
