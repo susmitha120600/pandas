{
 "cells": [
  {
   "cell_type": "code",
   "execution_count": 1,
   "id": "834429c3",
   "metadata": {},
   "outputs": [],
   "source": [
    "\n",
    "from tkinter import*\n",
    "from time import*\n",
    "import sys\n",
    "\n",
    "kichu = Tk()\n",
    "kichu.title(\"digital Clock\")\n",
    "\n",
    "\n",
    "clock = Label(kichu,font=(\"calibri\",68),bg=\"grey\",fg=\"white\")\n",
    "clock.pack()\n",
    "\n",
    "\n",
    "def update():\n",
    "    s = strftime(\"%I:%M:%S:%p\")\n",
    "    clock.config(text=s)\n",
    "    clock.after(300,time)\n",
    "    \n",
    "clock = Label(kichu,font=(\"calibri\",90),bg=\"grey\",fg=\"white\")\n",
    "clock.pack() \n",
    "    \n",
    "\n",
    "update()\n",
    "kichu.mainloop()"
   ]
  },
  {
   "cell_type": "code",
   "execution_count": 1,
   "id": "ef219ba4",
   "metadata": {},
   "outputs": [],
   "source": [
    "from tkinter import*\n",
    "from time import*\n",
    "w=Tk()\n",
    "w.title(\"Digital clock\")\n",
    "w.geometry(\"420x150\")\n",
    "w.resizable()\n",
    "\n",
    "\n",
    "\n",
    "l = Label(w,\n",
    "    font = (\"Arial\",68,\"bold\"),\n",
    "    bg=\"yellow\",\n",
    "          fg=\"blue\",\n",
    "          bd=25)\n",
    "l.grid(row=0, column=1)\n",
    "\n",
    "def update():\n",
    "    t = strftime(\"%H:%M:%S%p\")\n",
    "    l.config(text=t)\n",
    "    w.after(1000,update)\n",
    "    \n",
    "    \n",
    "update()\n",
    "w.mainloop()\n",
    "          \n",
    "    "
   ]
  },
  {
   "cell_type": "code",
   "execution_count": null,
   "id": "af9b2263",
   "metadata": {},
   "outputs": [],
   "source": []
  },
  {
   "cell_type": "code",
   "execution_count": null,
   "id": "be38f3ab",
   "metadata": {},
   "outputs": [],
   "source": []
  }
 ],
 "metadata": {
  "kernelspec": {
   "display_name": "Python 3 (ipykernel)",
   "language": "python",
   "name": "python3"
  },
  "language_info": {
   "codemirror_mode": {
    "name": "ipython",
    "version": 3
   },
   "file_extension": ".py",
   "mimetype": "text/x-python",
   "name": "python",
   "nbconvert_exporter": "python",
   "pygments_lexer": "ipython3",
   "version": "3.10.9"
  }
 },
 "nbformat": 4,
 "nbformat_minor": 5
}
