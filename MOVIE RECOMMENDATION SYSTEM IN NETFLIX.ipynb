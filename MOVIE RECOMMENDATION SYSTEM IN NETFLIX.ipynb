{
 "cells": [
  {
   "cell_type": "code",
   "execution_count": 1,
   "id": "e6baf0f3",
   "metadata": {},
   "outputs": [],
   "source": [
    "#Importing Libraries\n",
    "\n",
    "import pandas as pd\n",
    "import numpy as np\n",
    "import matplotlib.pyplot as plt\n",
    "import seaborn as sns\n"
   ]
  },
  {
   "cell_type": "markdown",
   "id": "f2993bee",
   "metadata": {},
   "source": [
    "# DATA CLEANING"
   ]
  },
  {
   "cell_type": "code",
   "execution_count": 2,
   "id": "b7c88a21",
   "metadata": {},
   "outputs": [
    {
     "data": {
      "text/html": [
       "<div>\n",
       "<style scoped>\n",
       "    .dataframe tbody tr th:only-of-type {\n",
       "        vertical-align: middle;\n",
       "    }\n",
       "\n",
       "    .dataframe tbody tr th {\n",
       "        vertical-align: top;\n",
       "    }\n",
       "\n",
       "    .dataframe thead th {\n",
       "        text-align: right;\n",
       "    }\n",
       "</style>\n",
       "<table border=\"1\" class=\"dataframe\">\n",
       "  <thead>\n",
       "    <tr style=\"text-align: right;\">\n",
       "      <th></th>\n",
       "      <th>id</th>\n",
       "      <th>title</th>\n",
       "      <th>type</th>\n",
       "      <th>description</th>\n",
       "      <th>release_year</th>\n",
       "      <th>age_certification</th>\n",
       "      <th>runtime</th>\n",
       "      <th>genres</th>\n",
       "      <th>production_countries</th>\n",
       "      <th>seasons</th>\n",
       "      <th>imdb_id</th>\n",
       "      <th>imdb_score</th>\n",
       "      <th>imdb_votes</th>\n",
       "      <th>tmdb_popularity</th>\n",
       "      <th>tmdb_score</th>\n",
       "    </tr>\n",
       "  </thead>\n",
       "  <tbody>\n",
       "    <tr>\n",
       "      <th>5845</th>\n",
       "      <td>tm1014599</td>\n",
       "      <td>Fine Wine</td>\n",
       "      <td>MOVIE</td>\n",
       "      <td>A beautiful love story that can happen between...</td>\n",
       "      <td>2021</td>\n",
       "      <td>NaN</td>\n",
       "      <td>100</td>\n",
       "      <td>['romance', 'drama']</td>\n",
       "      <td>['NG']</td>\n",
       "      <td>NaN</td>\n",
       "      <td>tt13857480</td>\n",
       "      <td>6.8</td>\n",
       "      <td>45.0</td>\n",
       "      <td>1.466</td>\n",
       "      <td>NaN</td>\n",
       "    </tr>\n",
       "    <tr>\n",
       "      <th>5846</th>\n",
       "      <td>tm898842</td>\n",
       "      <td>C/O Kaadhal</td>\n",
       "      <td>MOVIE</td>\n",
       "      <td>A heart warming film that explores the concept...</td>\n",
       "      <td>2021</td>\n",
       "      <td>NaN</td>\n",
       "      <td>134</td>\n",
       "      <td>['drama']</td>\n",
       "      <td>[]</td>\n",
       "      <td>NaN</td>\n",
       "      <td>tt11803618</td>\n",
       "      <td>7.7</td>\n",
       "      <td>348.0</td>\n",
       "      <td>NaN</td>\n",
       "      <td>NaN</td>\n",
       "    </tr>\n",
       "    <tr>\n",
       "      <th>5847</th>\n",
       "      <td>tm1059008</td>\n",
       "      <td>Lokillo</td>\n",
       "      <td>MOVIE</td>\n",
       "      <td>A controversial TV host and comedian who has b...</td>\n",
       "      <td>2021</td>\n",
       "      <td>NaN</td>\n",
       "      <td>90</td>\n",
       "      <td>['comedy']</td>\n",
       "      <td>['CO']</td>\n",
       "      <td>NaN</td>\n",
       "      <td>tt14585902</td>\n",
       "      <td>3.8</td>\n",
       "      <td>68.0</td>\n",
       "      <td>26.005</td>\n",
       "      <td>6.3</td>\n",
       "    </tr>\n",
       "    <tr>\n",
       "      <th>5848</th>\n",
       "      <td>tm1035612</td>\n",
       "      <td>Dad Stop Embarrassing Me - The Afterparty</td>\n",
       "      <td>MOVIE</td>\n",
       "      <td>Jamie Foxx, David Alan Grier and more from the...</td>\n",
       "      <td>2021</td>\n",
       "      <td>PG-13</td>\n",
       "      <td>37</td>\n",
       "      <td>[]</td>\n",
       "      <td>['US']</td>\n",
       "      <td>NaN</td>\n",
       "      <td>NaN</td>\n",
       "      <td>NaN</td>\n",
       "      <td>NaN</td>\n",
       "      <td>1.296</td>\n",
       "      <td>10.0</td>\n",
       "    </tr>\n",
       "    <tr>\n",
       "      <th>5849</th>\n",
       "      <td>ts271048</td>\n",
       "      <td>Mighty Little Bheem: Kite Festival</td>\n",
       "      <td>SHOW</td>\n",
       "      <td>With winter behind them, Bheem and his townspe...</td>\n",
       "      <td>2021</td>\n",
       "      <td>NaN</td>\n",
       "      <td>7</td>\n",
       "      <td>['family', 'animation', 'comedy']</td>\n",
       "      <td>[]</td>\n",
       "      <td>1.0</td>\n",
       "      <td>tt13711094</td>\n",
       "      <td>7.8</td>\n",
       "      <td>18.0</td>\n",
       "      <td>2.289</td>\n",
       "      <td>10.0</td>\n",
       "    </tr>\n",
       "  </tbody>\n",
       "</table>\n",
       "</div>"
      ],
      "text/plain": [
       "             id                                      title   type  \\\n",
       "5845  tm1014599                                  Fine Wine  MOVIE   \n",
       "5846   tm898842                                C/O Kaadhal  MOVIE   \n",
       "5847  tm1059008                                    Lokillo  MOVIE   \n",
       "5848  tm1035612  Dad Stop Embarrassing Me - The Afterparty  MOVIE   \n",
       "5849   ts271048         Mighty Little Bheem: Kite Festival   SHOW   \n",
       "\n",
       "                                            description  release_year  \\\n",
       "5845  A beautiful love story that can happen between...          2021   \n",
       "5846  A heart warming film that explores the concept...          2021   \n",
       "5847  A controversial TV host and comedian who has b...          2021   \n",
       "5848  Jamie Foxx, David Alan Grier and more from the...          2021   \n",
       "5849  With winter behind them, Bheem and his townspe...          2021   \n",
       "\n",
       "     age_certification  runtime                             genres  \\\n",
       "5845               NaN      100               ['romance', 'drama']   \n",
       "5846               NaN      134                          ['drama']   \n",
       "5847               NaN       90                         ['comedy']   \n",
       "5848             PG-13       37                                 []   \n",
       "5849               NaN        7  ['family', 'animation', 'comedy']   \n",
       "\n",
       "     production_countries  seasons     imdb_id  imdb_score  imdb_votes  \\\n",
       "5845               ['NG']      NaN  tt13857480         6.8        45.0   \n",
       "5846                   []      NaN  tt11803618         7.7       348.0   \n",
       "5847               ['CO']      NaN  tt14585902         3.8        68.0   \n",
       "5848               ['US']      NaN         NaN         NaN         NaN   \n",
       "5849                   []      1.0  tt13711094         7.8        18.0   \n",
       "\n",
       "      tmdb_popularity  tmdb_score  \n",
       "5845            1.466         NaN  \n",
       "5846              NaN         NaN  \n",
       "5847           26.005         6.3  \n",
       "5848            1.296        10.0  \n",
       "5849            2.289        10.0  "
      ]
     },
     "execution_count": 2,
     "metadata": {},
     "output_type": "execute_result"
    }
   ],
   "source": [
    "#DATA CLEANING\n",
    "\n",
    "# Importing the CSV file \n",
    "\n",
    "df=pd.read_csv(\"netflix.csv\")\n",
    "df.tail()"
   ]
  },
  {
   "cell_type": "code",
   "execution_count": 3,
   "id": "23ff2e77",
   "metadata": {},
   "outputs": [
    {
     "name": "stdout",
     "output_type": "stream",
     "text": [
      "<class 'pandas.core.frame.DataFrame'>\n",
      "RangeIndex: 5850 entries, 0 to 5849\n",
      "Data columns (total 15 columns):\n",
      " #   Column                Non-Null Count  Dtype  \n",
      "---  ------                --------------  -----  \n",
      " 0   id                    5850 non-null   object \n",
      " 1   title                 5849 non-null   object \n",
      " 2   type                  5850 non-null   object \n",
      " 3   description           5832 non-null   object \n",
      " 4   release_year          5850 non-null   int64  \n",
      " 5   age_certification     3231 non-null   object \n",
      " 6   runtime               5850 non-null   int64  \n",
      " 7   genres                5850 non-null   object \n",
      " 8   production_countries  5850 non-null   object \n",
      " 9   seasons               2106 non-null   float64\n",
      " 10  imdb_id               5447 non-null   object \n",
      " 11  imdb_score            5368 non-null   float64\n",
      " 12  imdb_votes            5352 non-null   float64\n",
      " 13  tmdb_popularity       5759 non-null   float64\n",
      " 14  tmdb_score            5539 non-null   float64\n",
      "dtypes: float64(5), int64(2), object(8)\n",
      "memory usage: 685.7+ KB\n"
     ]
    }
   ],
   "source": [
    "#Getting the information regarding our datset to know how much null values are there..\n",
    "df.info()"
   ]
  },
  {
   "cell_type": "code",
   "execution_count": 4,
   "id": "7d8554d6",
   "metadata": {},
   "outputs": [
    {
     "data": {
      "text/html": [
       "<div>\n",
       "<style scoped>\n",
       "    .dataframe tbody tr th:only-of-type {\n",
       "        vertical-align: middle;\n",
       "    }\n",
       "\n",
       "    .dataframe tbody tr th {\n",
       "        vertical-align: top;\n",
       "    }\n",
       "\n",
       "    .dataframe thead th {\n",
       "        text-align: right;\n",
       "    }\n",
       "</style>\n",
       "<table border=\"1\" class=\"dataframe\">\n",
       "  <thead>\n",
       "    <tr style=\"text-align: right;\">\n",
       "      <th></th>\n",
       "      <th>title</th>\n",
       "      <th>type</th>\n",
       "      <th>release_year</th>\n",
       "      <th>age_certification</th>\n",
       "      <th>runtime</th>\n",
       "      <th>genres</th>\n",
       "      <th>production_countries</th>\n",
       "      <th>seasons</th>\n",
       "      <th>imdb_score</th>\n",
       "      <th>imdb_votes</th>\n",
       "      <th>tmdb_popularity</th>\n",
       "      <th>tmdb_score</th>\n",
       "    </tr>\n",
       "  </thead>\n",
       "  <tbody>\n",
       "    <tr>\n",
       "      <th>5845</th>\n",
       "      <td>Fine Wine</td>\n",
       "      <td>MOVIE</td>\n",
       "      <td>2021</td>\n",
       "      <td>NaN</td>\n",
       "      <td>100</td>\n",
       "      <td>['romance', 'drama']</td>\n",
       "      <td>['NG']</td>\n",
       "      <td>NaN</td>\n",
       "      <td>6.8</td>\n",
       "      <td>45.0</td>\n",
       "      <td>1.466</td>\n",
       "      <td>NaN</td>\n",
       "    </tr>\n",
       "    <tr>\n",
       "      <th>5846</th>\n",
       "      <td>C/O Kaadhal</td>\n",
       "      <td>MOVIE</td>\n",
       "      <td>2021</td>\n",
       "      <td>NaN</td>\n",
       "      <td>134</td>\n",
       "      <td>['drama']</td>\n",
       "      <td>[]</td>\n",
       "      <td>NaN</td>\n",
       "      <td>7.7</td>\n",
       "      <td>348.0</td>\n",
       "      <td>NaN</td>\n",
       "      <td>NaN</td>\n",
       "    </tr>\n",
       "    <tr>\n",
       "      <th>5847</th>\n",
       "      <td>Lokillo</td>\n",
       "      <td>MOVIE</td>\n",
       "      <td>2021</td>\n",
       "      <td>NaN</td>\n",
       "      <td>90</td>\n",
       "      <td>['comedy']</td>\n",
       "      <td>['CO']</td>\n",
       "      <td>NaN</td>\n",
       "      <td>3.8</td>\n",
       "      <td>68.0</td>\n",
       "      <td>26.005</td>\n",
       "      <td>6.3</td>\n",
       "    </tr>\n",
       "    <tr>\n",
       "      <th>5848</th>\n",
       "      <td>Dad Stop Embarrassing Me - The Afterparty</td>\n",
       "      <td>MOVIE</td>\n",
       "      <td>2021</td>\n",
       "      <td>PG-13</td>\n",
       "      <td>37</td>\n",
       "      <td>[]</td>\n",
       "      <td>['US']</td>\n",
       "      <td>NaN</td>\n",
       "      <td>NaN</td>\n",
       "      <td>NaN</td>\n",
       "      <td>1.296</td>\n",
       "      <td>10.0</td>\n",
       "    </tr>\n",
       "    <tr>\n",
       "      <th>5849</th>\n",
       "      <td>Mighty Little Bheem: Kite Festival</td>\n",
       "      <td>SHOW</td>\n",
       "      <td>2021</td>\n",
       "      <td>NaN</td>\n",
       "      <td>7</td>\n",
       "      <td>['family', 'animation', 'comedy']</td>\n",
       "      <td>[]</td>\n",
       "      <td>1.0</td>\n",
       "      <td>7.8</td>\n",
       "      <td>18.0</td>\n",
       "      <td>2.289</td>\n",
       "      <td>10.0</td>\n",
       "    </tr>\n",
       "  </tbody>\n",
       "</table>\n",
       "</div>"
      ],
      "text/plain": [
       "                                          title   type  release_year  \\\n",
       "5845                                  Fine Wine  MOVIE          2021   \n",
       "5846                                C/O Kaadhal  MOVIE          2021   \n",
       "5847                                    Lokillo  MOVIE          2021   \n",
       "5848  Dad Stop Embarrassing Me - The Afterparty  MOVIE          2021   \n",
       "5849         Mighty Little Bheem: Kite Festival   SHOW          2021   \n",
       "\n",
       "     age_certification  runtime                             genres  \\\n",
       "5845               NaN      100               ['romance', 'drama']   \n",
       "5846               NaN      134                          ['drama']   \n",
       "5847               NaN       90                         ['comedy']   \n",
       "5848             PG-13       37                                 []   \n",
       "5849               NaN        7  ['family', 'animation', 'comedy']   \n",
       "\n",
       "     production_countries  seasons  imdb_score  imdb_votes  tmdb_popularity  \\\n",
       "5845               ['NG']      NaN         6.8        45.0            1.466   \n",
       "5846                   []      NaN         7.7       348.0              NaN   \n",
       "5847               ['CO']      NaN         3.8        68.0           26.005   \n",
       "5848               ['US']      NaN         NaN         NaN            1.296   \n",
       "5849                   []      1.0         7.8        18.0            2.289   \n",
       "\n",
       "      tmdb_score  \n",
       "5845         NaN  \n",
       "5846         NaN  \n",
       "5847         6.3  \n",
       "5848        10.0  \n",
       "5849        10.0  "
      ]
     },
     "execution_count": 4,
     "metadata": {},
     "output_type": "execute_result"
    }
   ],
   "source": [
    "# Dropping the unnecessary columns \n",
    "\n",
    "df=df.drop([\"id\",\"description\",\"imdb_id\"],axis=1)\n",
    "df.tail()"
   ]
  },
  {
   "cell_type": "code",
   "execution_count": 18,
   "id": "1b592914",
   "metadata": {},
   "outputs": [
    {
     "data": {
      "text/plain": [
       "array([1945, 1976, 1972, 1975, 1967, 1969, 1979, 1971, 1980, 1961, 1966,\n",
       "       1954, 1958, 1977, 1963, 1956, 1960, 1973, 1974, 1959, 1978, 1989,\n",
       "       1990, 1987, 1984, 1983, 1982, 1986, 1981, 1988, 1985, 2000, 1996,\n",
       "       1997, 1995, 1994, 1999, 1998, 1993, 1992, 1991, 2008, 2002, 2010,\n",
       "       2005, 2007, 2004, 2006, 2009, 2003, 2001, 2011, 2012, 2013, 2014,\n",
       "       2015, 2016, 2018, 2017, 2019, 2020, 2022, 2021], dtype=int64)"
      ]
     },
     "execution_count": 18,
     "metadata": {},
     "output_type": "execute_result"
    }
   ],
   "source": [
    "df[\"release_year\"].unique()\n",
    "\n",
    "# AS here we got to know that there are too many unique values for the release_year column so we will be shortening it"
   ]
  },
  {
   "cell_type": "code",
   "execution_count": 24,
   "id": "8d3b33a1",
   "metadata": {},
   "outputs": [
    {
     "data": {
      "text/plain": [
       "Before 2012    5850\n",
       "Name: release_year, dtype: int64"
      ]
     },
     "execution_count": 24,
     "metadata": {},
     "output_type": "execute_result"
    }
   ],
   "source": [
    "#Cleaning our \"Year\" column as there are too much unique values \n",
    "# We will be making a new variable which will be conataining years that have less than 100 movie/show relaesed \n",
    "# and we noticed that these all were before 2012\n",
    "\n",
    "# Extracting Year from original YEARS column\n",
    "\n"
   ]
  },
  {
   "cell_type": "code",
   "execution_count": 10,
   "id": "805326a3",
   "metadata": {},
   "outputs": [
    {
     "data": {
      "text/plain": [
       "array(['TV-MA', 'R', 'PG', 'Not Rated', 'TV-14', 'PG-13', 'TV-PG', 'TV-Y',\n",
       "       'TV-G', 'TV-Y7', 'G', 'NC-17'], dtype=object)"
      ]
     },
     "execution_count": 10,
     "metadata": {},
     "output_type": "execute_result"
    }
   ],
   "source": [
    "#Renaming ourn Column because it's name is too long to type again and again\n",
    "\n",
    "df=df.rename(columns={\"age_certification\":\"films\"})\n",
    "\n",
    "#Replacing the null values in Age Restriction column with \"Not Rated \" as we cant drop this much of data\n",
    "\n",
    "df[\"films\"].unique()\n",
    "df[\"films\"].isnull().sum()\n",
    "\n",
    "df[\"films\"]=df[\"films\"].fillna(\"Not Rated\")\n",
    "df[\"films\"].unique()"
   ]
  },
  {
   "cell_type": "code",
   "execution_count": 11,
   "id": "79a25049",
   "metadata": {},
   "outputs": [
    {
     "data": {
      "text/plain": [
       "array([ 1.,  0.,  4.,  9., 24.,  5., 39., 10., 13., 42., 25., 21., 37.,\n",
       "        8., 29.,  7., 11., 14., 12.,  6., 32., 15., 19.,  2., 20.,  3.,\n",
       "       16.])"
      ]
     },
     "execution_count": 11,
     "metadata": {},
     "output_type": "execute_result"
    }
   ],
   "source": [
    "'''Replacing null values in Seasons column with \"0\" as mainly movies have null values and we know movies \n",
    "dont have any seasons so we will replace it with \"0\" instead of dropping them as we cant drop this much of \n",
    "data as movie occupies more than half of data'''\n",
    "\n",
    "\n",
    "df[\"seasons\"].isnull().sum()\n",
    "df[\"seasons\"].unique()\n",
    "\n",
    "df[\"seasons\"]=df[\"seasons\"].fillna(0)\n",
    "df[\"seasons\"].unique()"
   ]
  },
  {
   "cell_type": "code",
   "execution_count": 12,
   "id": "31f52f8f",
   "metadata": {},
   "outputs": [
    {
     "data": {
      "text/plain": [
       "498"
      ]
     },
     "execution_count": 12,
     "metadata": {},
     "output_type": "execute_result"
    }
   ],
   "source": [
    "'''Replacing null values in below three columns with their mean values'''\n",
    "# We can do that seperately also but to save our time we did this ...!\n",
    "\n",
    "three_col=df[[\"imdb_score\",\"tmdb_popularity\",\"tmdb_score\"]]\n",
    "df[[\"imdb_score\",\"tmdb_popularity\",\"tmdb_score\"]]=three_col.apply(lambda x : x.fillna(np.mean(x)))\n",
    "df[\"imdb_votes\"].isnull().sum()"
   ]
  },
  {
   "cell_type": "code",
   "execution_count": 13,
   "id": "3715e8b3",
   "metadata": {},
   "outputs": [
    {
     "data": {
      "text/plain": [
       "0"
      ]
     },
     "execution_count": 13,
     "metadata": {},
     "output_type": "execute_result"
    }
   ],
   "source": [
    "# Replacing the null values in IMDB votes column with \"Not voted\" as here we can't do mean and other\n",
    "# arthimetic operations as giving a movie voting cant be decided by votes of other movies\n",
    "\n",
    "df[\"imdb_votes\"].value_counts()\n",
    "df[\"imdb_votes\"].fillna(\"Not Voted\",inplace=True)\n",
    "df[\"imdb_votes\"].isnull().sum()"
   ]
  },
  {
   "cell_type": "code",
   "execution_count": 14,
   "id": "36d0e0d4",
   "metadata": {},
   "outputs": [
    {
     "name": "stdout",
     "output_type": "stream",
     "text": [
      "<class 'pandas.core.frame.DataFrame'>\n",
      "RangeIndex: 5850 entries, 0 to 5849\n",
      "Data columns (total 12 columns):\n",
      " #   Column                Non-Null Count  Dtype  \n",
      "---  ------                --------------  -----  \n",
      " 0   title                 5849 non-null   object \n",
      " 1   type                  5850 non-null   object \n",
      " 2   release_year          5850 non-null   object \n",
      " 3   age                   5850 non-null   object \n",
      " 4   runtime               5850 non-null   int64  \n",
      " 5   genres                5850 non-null   object \n",
      " 6   production_countries  5850 non-null   object \n",
      " 7   seasons               5850 non-null   float64\n",
      " 8   imdb_score            5850 non-null   float64\n",
      " 9   imdb_votes            5850 non-null   object \n",
      " 10  tmdb_popularity       5850 non-null   float64\n",
      " 11  tmdb_score            5850 non-null   float64\n",
      "dtypes: float64(4), int64(1), object(7)\n",
      "memory usage: 548.6+ KB\n"
     ]
    }
   ],
   "source": [
    "df.info()\n",
    "\n",
    "#DONE we have cleaned our data there are no null values in our data \n",
    "#                      Bingoooo  !!!!!!"
   ]
  },
  {
   "cell_type": "code",
   "execution_count": 16,
   "id": "641fcca3",
   "metadata": {},
   "outputs": [
    {
     "data": {
      "text/html": [
       "<div>\n",
       "<style scoped>\n",
       "    .dataframe tbody tr th:only-of-type {\n",
       "        vertical-align: middle;\n",
       "    }\n",
       "\n",
       "    .dataframe tbody tr th {\n",
       "        vertical-align: top;\n",
       "    }\n",
       "\n",
       "    .dataframe thead th {\n",
       "        text-align: right;\n",
       "    }\n",
       "</style>\n",
       "<table border=\"1\" class=\"dataframe\">\n",
       "  <thead>\n",
       "    <tr style=\"text-align: right;\">\n",
       "      <th></th>\n",
       "      <th>title</th>\n",
       "      <th>type</th>\n",
       "      <th>release_year</th>\n",
       "      <th>age</th>\n",
       "      <th>runtime</th>\n",
       "      <th>genres</th>\n",
       "      <th>production_countries</th>\n",
       "      <th>seasons</th>\n",
       "      <th>imdb_score</th>\n",
       "      <th>imdb_votes</th>\n",
       "      <th>tmdb_popularity</th>\n",
       "      <th>tmdb_score</th>\n",
       "    </tr>\n",
       "  </thead>\n",
       "  <tbody>\n",
       "    <tr>\n",
       "      <th>5845</th>\n",
       "      <td>Fine Wine</td>\n",
       "      <td>MOVIE</td>\n",
       "      <td>2021</td>\n",
       "      <td>Not Rated</td>\n",
       "      <td>100</td>\n",
       "      <td>['romance', 'drama']</td>\n",
       "      <td>['NG']</td>\n",
       "      <td>0.0</td>\n",
       "      <td>6.800000</td>\n",
       "      <td>45.0</td>\n",
       "      <td>1.466000</td>\n",
       "      <td>6.829175</td>\n",
       "    </tr>\n",
       "    <tr>\n",
       "      <th>5846</th>\n",
       "      <td>C/O Kaadhal</td>\n",
       "      <td>MOVIE</td>\n",
       "      <td>2021</td>\n",
       "      <td>Not Rated</td>\n",
       "      <td>134</td>\n",
       "      <td>['drama']</td>\n",
       "      <td>[]</td>\n",
       "      <td>0.0</td>\n",
       "      <td>7.700000</td>\n",
       "      <td>348.0</td>\n",
       "      <td>22.637925</td>\n",
       "      <td>6.829175</td>\n",
       "    </tr>\n",
       "    <tr>\n",
       "      <th>5847</th>\n",
       "      <td>Lokillo</td>\n",
       "      <td>MOVIE</td>\n",
       "      <td>2021</td>\n",
       "      <td>Not Rated</td>\n",
       "      <td>90</td>\n",
       "      <td>['comedy']</td>\n",
       "      <td>['CO']</td>\n",
       "      <td>0.0</td>\n",
       "      <td>3.800000</td>\n",
       "      <td>68.0</td>\n",
       "      <td>26.005000</td>\n",
       "      <td>6.300000</td>\n",
       "    </tr>\n",
       "    <tr>\n",
       "      <th>5848</th>\n",
       "      <td>Dad Stop Embarrassing Me - The Afterparty</td>\n",
       "      <td>MOVIE</td>\n",
       "      <td>2021</td>\n",
       "      <td>PG-13</td>\n",
       "      <td>37</td>\n",
       "      <td>[]</td>\n",
       "      <td>['US']</td>\n",
       "      <td>0.0</td>\n",
       "      <td>6.510861</td>\n",
       "      <td>Not Voted</td>\n",
       "      <td>1.296000</td>\n",
       "      <td>10.000000</td>\n",
       "    </tr>\n",
       "    <tr>\n",
       "      <th>5849</th>\n",
       "      <td>Mighty Little Bheem: Kite Festival</td>\n",
       "      <td>SHOW</td>\n",
       "      <td>2021</td>\n",
       "      <td>Not Rated</td>\n",
       "      <td>7</td>\n",
       "      <td>['family', 'animation', 'comedy']</td>\n",
       "      <td>[]</td>\n",
       "      <td>1.0</td>\n",
       "      <td>7.800000</td>\n",
       "      <td>18.0</td>\n",
       "      <td>2.289000</td>\n",
       "      <td>10.000000</td>\n",
       "    </tr>\n",
       "  </tbody>\n",
       "</table>\n",
       "</div>"
      ],
      "text/plain": [
       "                                          title   type release_year  \\\n",
       "5845                                  Fine Wine  MOVIE         2021   \n",
       "5846                                C/O Kaadhal  MOVIE         2021   \n",
       "5847                                    Lokillo  MOVIE         2021   \n",
       "5848  Dad Stop Embarrassing Me - The Afterparty  MOVIE         2021   \n",
       "5849         Mighty Little Bheem: Kite Festival   SHOW         2021   \n",
       "\n",
       "            age  runtime                             genres  \\\n",
       "5845  Not Rated      100               ['romance', 'drama']   \n",
       "5846  Not Rated      134                          ['drama']   \n",
       "5847  Not Rated       90                         ['comedy']   \n",
       "5848      PG-13       37                                 []   \n",
       "5849  Not Rated        7  ['family', 'animation', 'comedy']   \n",
       "\n",
       "     production_countries  seasons  imdb_score imdb_votes  tmdb_popularity  \\\n",
       "5845               ['NG']      0.0    6.800000       45.0         1.466000   \n",
       "5846                   []      0.0    7.700000      348.0        22.637925   \n",
       "5847               ['CO']      0.0    3.800000       68.0        26.005000   \n",
       "5848               ['US']      0.0    6.510861  Not Voted         1.296000   \n",
       "5849                   []      1.0    7.800000       18.0         2.289000   \n",
       "\n",
       "      tmdb_score  \n",
       "5845    6.829175  \n",
       "5846    6.829175  \n",
       "5847    6.300000  \n",
       "5848   10.000000  \n",
       "5849   10.000000  "
      ]
     },
     "execution_count": 16,
     "metadata": {},
     "output_type": "execute_result"
    }
   ],
   "source": [
    "df.tail()"
   ]
  },
  {
   "cell_type": "markdown",
   "id": "07566f51",
   "metadata": {},
   "source": [
    "sns.countplot(x=\"type\",data=df)"
   ]
  },
  {
   "cell_type": "code",
   "execution_count": 18,
   "id": "a2832830",
   "metadata": {},
   "outputs": [
    {
     "data": {
      "image/png": "[encoded data removed]",
      "text/plain": [
       "<Figure size 640x480 with 1 Axes>"
      ]
     },
     "metadata": {},
     "output_type": "display_data"
    }
   ],
   "source": [
    "sns.countplot(x=\"release_year\",data=df)\n",
    "plt.xticks(rotation=90)\n",
    "plt.show()\n"
   ]
  },
  {
   "cell_type": "code",
   "execution_count": 14,
   "id": "8bea5628",
   "metadata": {},
   "outputs": [
    {
     "data": {
      "image/png": "[encoded data removed]",
      "text/plain": [
       "<Figure size 640x480 with 1 Axes>"
      ]
     },
     "metadata": {},
     "output_type": "display_data"
    }
   ],
   "source": [
    "sns.countplot(x=\"films\",data=df)\n",
    "plt.xticks(rotation=90)\n",
    "plt.show()"
   ]
  },
  {
   "cell_type": "code",
   "execution_count": 20,
   "id": "268d04d2",
   "metadata": {},
   "outputs": [
    {
     "data": {
      "text/plain": [
       "<Axes: xlabel='type', ylabel='imdb_score'>"
      ]
     },
     "execution_count": 20,
     "metadata": {},
     "output_type": "execute_result"
    },
    {
     "data": {
      "image/png": "[encoded data removed]",
      "text/plain": [
       "<Figure size 640x480 with 1 Axes>"
      ]
     },
     "metadata": {},
     "output_type": "display_data"
    }
   ],
   "source": [
    "sns.barplot(x=\"type\",y=\"imdb_score\",data=df)"
   ]
  },
  {
   "cell_type": "code",
   "execution_count": 1,
   "id": "c834b729",
   "metadata": {},
   "outputs": [],
   "source": [
    "#conclusion\n",
    "\n",
    "#the overall analyses in  netflix compare to movie the show hits too high in netflix so I would like to recommended watch show in netflix"
   ]
  },
  {
   "cell_type": "code",
   "execution_count": null,
   "id": "bad5928d",
   "metadata": {},
   "outputs": [],
   "source": []
  },
  {
   "cell_type": "code",
   "execution_count": null,
   "id": "50d59cf1",
   "metadata": {},
   "outputs": [],
   "source": []
  },
  {
   "cell_type": "code",
   "execution_count": null,
   "id": "e05ce6dd",
   "metadata": {},
   "outputs": [],
   "source": []
  }
 ],
 "metadata": {
  "kernelspec": {
   "display_name": "Python 3 (ipykernel)",
   "language": "python",
   "name": "python3"
  },
  "language_info": {
   "codemirror_mode": {
    "name": "ipython",
    "version": 3
   },
   "file_extension": ".py",
   "mimetype": "text/x-python",
   "name": "python",
   "nbconvert_exporter": "python",
   "pygments_lexer": "ipython3",
   "version": "3.10.9"
  }
 },
 "nbformat": 4,
 "nbformat_minor": 5
}
